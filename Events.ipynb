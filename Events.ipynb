{
 "cells": [
  {
   "cell_type": "markdown",
   "metadata": {},
   "source": [
    "# Import Programs and Data\n",
    "## Pandas and Numpy"
   ]
  },
  {
   "cell_type": "code",
   "execution_count": 2,
   "metadata": {},
   "outputs": [],
   "source": [
    "import pandas as pd\n",
    "from dfply import *\n",
    "import numpy as np\n",
    "import matplotlib.pyplot as plt"
   ]
  },
  {
   "cell_type": "code",
   "execution_count": 3,
   "metadata": {},
   "outputs": [],
   "source": [
    "events = pd.read_csv(\"Events.csv\")\n",
    "events['timestamp'] = events['Date'] + \" \" + events['Time']"
   ]
  },
  {
   "cell_type": "code",
   "execution_count": null,
   "metadata": {},
   "outputs": [],
   "source": []
  },
  {
   "cell_type": "markdown",
   "metadata": {},
   "source": [
    "## Groupby and Summarize Event Data"
   ]
  },
  {
   "cell_type": "code",
   "execution_count": 11,
   "metadata": {},
   "outputs": [],
   "source": [
    "for i in events.columns:\n",
    "    event_means = pd.DataFrame(events.groupby('Event').mean())\n",
    "    event_maxs = pd.DataFrame(events.groupby('Event').max())\n",
    "    event_mins = pd.DataFrame(events.groupby('Event').min())\n",
    "    event_std = pd.DataFrame(events.groupby('Event').std())\n",
    "    CoV = event_std/event_means\n",
    "    QDOC = CoV.DOC.div(CoV.Q)\n",
    "    QNO3 = CoV.NO3.div(CoV.Q)\n",
    "    QDO = CoV.DO.div(CoV.Q)\n",
    "    QpH = CoV.pH.div(CoV.Q)\n",
    "    QSAC = CoV.SAC254.div(CoV.Q)\n",
    "    DOCpH = CoV.pH.div(CoV.DOC)\n",
    "    DOpH = CoV.pH.div(CoV.DO)\n",
    "    DOCdo = CoV.DO.div(CoV.DOC)\n",
    "    \n",
    "    \n",
    "    "
   ]
  },
  {
   "cell_type": "code",
   "execution_count": 21,
   "metadata": {},
   "outputs": [
    {
     "data": {
      "text/plain": [
       "array([[ 1.        ,  1.96214496,  0.36445266],\n",
       "       [ 2.        ,  1.55883425,  0.65574672],\n",
       "       [ 3.        ,  0.67541084,  0.40028615],\n",
       "       [ 4.        ,  0.9958187 ,  0.47017439],\n",
       "       [ 5.        ,  0.70197869,  0.9522194 ],\n",
       "       [ 6.        ,  1.07946381,  0.81521222],\n",
       "       [ 7.        ,  0.71940728,  0.83184757],\n",
       "       [ 8.        ,  0.91618099,  0.69293722],\n",
       "       [ 9.        ,  1.40748852,  1.0098334 ],\n",
       "       [10.        ,  0.76663504,  0.87874618],\n",
       "       [11.        ,  1.07838546,  0.76123779],\n",
       "       [12.        ,  4.28102107,  1.32511533],\n",
       "       [13.        ,  0.56069594,  0.30042098],\n",
       "       [14.        ,  0.69534163,  0.2396622 ],\n",
       "       [15.        ,  0.49410619,  0.72757604],\n",
       "       [16.        ,  1.10229458,  2.26995932],\n",
       "       [17.        ,  1.5727899 ,  1.74591267],\n",
       "       [18.        ,  0.69393204,  1.7401099 ],\n",
       "       [19.        ,  0.56926288,  1.000436  ],\n",
       "       [20.        ,  0.94637472,  0.93639458],\n",
       "       [21.        ,  0.57046427,  0.36166957],\n",
       "       [22.        ,  0.72133137,  0.9506075 ],\n",
       "       [23.        ,  0.99685207,  1.92800886],\n",
       "       [24.        ,  0.41774045,  0.88007956]])"
      ]
     },
     "execution_count": 21,
     "metadata": {},
     "output_type": "execute_result"
    }
   ],
   "source": [
    "event_num = range(1, 25)\n",
    "\n",
    "CoVs = np.column_stack((event_num, QDOC, QNO3))\n",
    "CoVs"
   ]
  },
  {
   "cell_type": "code",
   "execution_count": 23,
   "metadata": {},
   "outputs": [],
   "source": [
    "event_length = (pd.DataFrame(events.groupby('Event').count().Value)) / 6"
   ]
  },
  {
   "cell_type": "code",
   "execution_count": 24,
   "metadata": {
    "scrolled": true
   },
   "outputs": [
    {
     "data": {
      "text/plain": [
       "<matplotlib.legend.Legend at 0x24a7e21d518>"
      ]
     },
     "execution_count": 24,
     "metadata": {},
     "output_type": "execute_result"
    },
    {
     "data": {
      "image/png": "[encoded data removed]",
      "text/plain": [
       "<Figure size 432x288 with 1 Axes>"
      ]
     },
     "metadata": {
      "needs_background": "light"
     },
     "output_type": "display_data"
    }
   ],
   "source": [
    "#### Combining Coefficient Arrays\n",
    "\n",
    "event_number = range(1, 25)\n",
    "\n",
    "stats_array = np.column_stack((event_number, QDOC, QSAC, QDO, QpH, DOCpH, DOpH, DOCdo))\n",
    "stats_df = pd.DataFrame(stats_array, columns = ['event_number','QDOC', 'QSAC', 'QDO', 'QpH', 'DOCpH', 'DOpH', 'DOCdo'])\n",
    "\n",
    "stats_df\n",
    "\n",
    "\n",
    "\n",
    "#### Plotting Coefficients\n",
    "plt.plot(event_number, QDOC, label = 'QDOC')\n",
    "plt.plot(event_number, QSAC, label = 'QSAC')\n",
    "plt.plot((event_maxs.Q)/10, label = 'Qmax')\n",
    "plt.legend()"
   ]
  },
  {
   "cell_type": "code",
   "execution_count": 26,
   "metadata": {
    "scrolled": true
   },
   "outputs": [
    {
     "data": {
      "text/html": [
       "<div>\n",
       "<style scoped>\n",
       "    .dataframe tbody tr th:only-of-type {\n",
       "        vertical-align: middle;\n",
       "    }\n",
       "\n",
       "    .dataframe tbody tr th {\n",
       "        vertical-align: top;\n",
       "    }\n",
       "\n",
       "    .dataframe thead th {\n",
       "        text-align: right;\n",
       "    }\n",
       "</style>\n",
       "<table border=\"1\" class=\"dataframe\">\n",
       "  <thead>\n",
       "    <tr style=\"text-align: right;\">\n",
       "      <th></th>\n",
       "      <th>event_number</th>\n",
       "      <th>QDOC</th>\n",
       "      <th>QSAC</th>\n",
       "      <th>QDO</th>\n",
       "      <th>QpH</th>\n",
       "      <th>DOCpH</th>\n",
       "      <th>DOpH</th>\n",
       "      <th>DOCdo</th>\n",
       "    </tr>\n",
       "  </thead>\n",
       "  <tbody>\n",
       "    <tr>\n",
       "      <th>0</th>\n",
       "      <td>1.0</td>\n",
       "      <td>1.962145</td>\n",
       "      <td>1.585056</td>\n",
       "      <td>1.513727</td>\n",
       "      <td>0.121386</td>\n",
       "      <td>0.061864</td>\n",
       "      <td>0.080190</td>\n",
       "      <td>0.771465</td>\n",
       "    </tr>\n",
       "    <tr>\n",
       "      <th>1</th>\n",
       "      <td>2.0</td>\n",
       "      <td>1.558834</td>\n",
       "      <td>1.332757</td>\n",
       "      <td>0.546914</td>\n",
       "      <td>0.109716</td>\n",
       "      <td>0.070383</td>\n",
       "      <td>0.200609</td>\n",
       "      <td>0.350848</td>\n",
       "    </tr>\n",
       "    <tr>\n",
       "      <th>2</th>\n",
       "      <td>3.0</td>\n",
       "      <td>0.675411</td>\n",
       "      <td>0.526730</td>\n",
       "      <td>0.507142</td>\n",
       "      <td>0.109683</td>\n",
       "      <td>0.162395</td>\n",
       "      <td>0.216278</td>\n",
       "      <td>0.750864</td>\n",
       "    </tr>\n",
       "    <tr>\n",
       "      <th>3</th>\n",
       "      <td>4.0</td>\n",
       "      <td>0.995819</td>\n",
       "      <td>0.546628</td>\n",
       "      <td>0.652205</td>\n",
       "      <td>0.045051</td>\n",
       "      <td>0.045240</td>\n",
       "      <td>0.069075</td>\n",
       "      <td>0.654944</td>\n",
       "    </tr>\n",
       "    <tr>\n",
       "      <th>4</th>\n",
       "      <td>5.0</td>\n",
       "      <td>0.701979</td>\n",
       "      <td>0.528903</td>\n",
       "      <td>1.877697</td>\n",
       "      <td>0.057754</td>\n",
       "      <td>0.082273</td>\n",
       "      <td>0.030758</td>\n",
       "      <td>2.674863</td>\n",
       "    </tr>\n",
       "    <tr>\n",
       "      <th>5</th>\n",
       "      <td>6.0</td>\n",
       "      <td>1.079464</td>\n",
       "      <td>0.600519</td>\n",
       "      <td>0.196264</td>\n",
       "      <td>0.068182</td>\n",
       "      <td>0.063163</td>\n",
       "      <td>0.347400</td>\n",
       "      <td>0.181816</td>\n",
       "    </tr>\n",
       "    <tr>\n",
       "      <th>6</th>\n",
       "      <td>7.0</td>\n",
       "      <td>0.719407</td>\n",
       "      <td>0.456232</td>\n",
       "      <td>0.083223</td>\n",
       "      <td>0.077187</td>\n",
       "      <td>0.107293</td>\n",
       "      <td>0.927475</td>\n",
       "      <td>0.115683</td>\n",
       "    </tr>\n",
       "    <tr>\n",
       "      <th>7</th>\n",
       "      <td>8.0</td>\n",
       "      <td>0.916181</td>\n",
       "      <td>0.547298</td>\n",
       "      <td>0.224656</td>\n",
       "      <td>0.099053</td>\n",
       "      <td>0.108115</td>\n",
       "      <td>0.440907</td>\n",
       "      <td>0.245210</td>\n",
       "    </tr>\n",
       "    <tr>\n",
       "      <th>8</th>\n",
       "      <td>9.0</td>\n",
       "      <td>1.407489</td>\n",
       "      <td>0.504650</td>\n",
       "      <td>0.542889</td>\n",
       "      <td>0.151780</td>\n",
       "      <td>0.107838</td>\n",
       "      <td>0.279579</td>\n",
       "      <td>0.385715</td>\n",
       "    </tr>\n",
       "    <tr>\n",
       "      <th>9</th>\n",
       "      <td>10.0</td>\n",
       "      <td>0.766635</td>\n",
       "      <td>0.635805</td>\n",
       "      <td>0.253433</td>\n",
       "      <td>0.077440</td>\n",
       "      <td>0.101013</td>\n",
       "      <td>0.305565</td>\n",
       "      <td>0.330579</td>\n",
       "    </tr>\n",
       "    <tr>\n",
       "      <th>10</th>\n",
       "      <td>11.0</td>\n",
       "      <td>1.078385</td>\n",
       "      <td>0.584371</td>\n",
       "      <td>0.167425</td>\n",
       "      <td>0.058355</td>\n",
       "      <td>0.054113</td>\n",
       "      <td>0.348542</td>\n",
       "      <td>0.155255</td>\n",
       "    </tr>\n",
       "    <tr>\n",
       "      <th>11</th>\n",
       "      <td>12.0</td>\n",
       "      <td>4.281021</td>\n",
       "      <td>1.773951</td>\n",
       "      <td>0.228806</td>\n",
       "      <td>0.087901</td>\n",
       "      <td>0.020533</td>\n",
       "      <td>0.384172</td>\n",
       "      <td>0.053447</td>\n",
       "    </tr>\n",
       "    <tr>\n",
       "      <th>12</th>\n",
       "      <td>13.0</td>\n",
       "      <td>0.560696</td>\n",
       "      <td>0.124615</td>\n",
       "      <td>0.062421</td>\n",
       "      <td>0.036068</td>\n",
       "      <td>0.064328</td>\n",
       "      <td>0.577823</td>\n",
       "      <td>0.111328</td>\n",
       "    </tr>\n",
       "    <tr>\n",
       "      <th>13</th>\n",
       "      <td>14.0</td>\n",
       "      <td>0.695342</td>\n",
       "      <td>0.298390</td>\n",
       "      <td>0.076722</td>\n",
       "      <td>0.062659</td>\n",
       "      <td>0.090113</td>\n",
       "      <td>0.816705</td>\n",
       "      <td>0.110337</td>\n",
       "    </tr>\n",
       "    <tr>\n",
       "      <th>14</th>\n",
       "      <td>15.0</td>\n",
       "      <td>0.494106</td>\n",
       "      <td>0.317939</td>\n",
       "      <td>0.067483</td>\n",
       "      <td>0.018420</td>\n",
       "      <td>0.037279</td>\n",
       "      <td>0.272954</td>\n",
       "      <td>0.136575</td>\n",
       "    </tr>\n",
       "    <tr>\n",
       "      <th>15</th>\n",
       "      <td>16.0</td>\n",
       "      <td>1.102295</td>\n",
       "      <td>0.547838</td>\n",
       "      <td>0.125736</td>\n",
       "      <td>0.021820</td>\n",
       "      <td>0.019795</td>\n",
       "      <td>0.173539</td>\n",
       "      <td>0.114068</td>\n",
       "    </tr>\n",
       "    <tr>\n",
       "      <th>16</th>\n",
       "      <td>17.0</td>\n",
       "      <td>1.572790</td>\n",
       "      <td>0.660906</td>\n",
       "      <td>0.177676</td>\n",
       "      <td>0.042441</td>\n",
       "      <td>0.026985</td>\n",
       "      <td>0.238868</td>\n",
       "      <td>0.112968</td>\n",
       "    </tr>\n",
       "    <tr>\n",
       "      <th>17</th>\n",
       "      <td>18.0</td>\n",
       "      <td>0.693932</td>\n",
       "      <td>0.199073</td>\n",
       "      <td>0.130561</td>\n",
       "      <td>0.030291</td>\n",
       "      <td>0.043652</td>\n",
       "      <td>0.232009</td>\n",
       "      <td>0.188146</td>\n",
       "    </tr>\n",
       "    <tr>\n",
       "      <th>18</th>\n",
       "      <td>19.0</td>\n",
       "      <td>0.569263</td>\n",
       "      <td>0.372835</td>\n",
       "      <td>0.057128</td>\n",
       "      <td>0.024832</td>\n",
       "      <td>0.043621</td>\n",
       "      <td>0.434666</td>\n",
       "      <td>0.100355</td>\n",
       "    </tr>\n",
       "    <tr>\n",
       "      <th>19</th>\n",
       "      <td>20.0</td>\n",
       "      <td>0.946375</td>\n",
       "      <td>0.487194</td>\n",
       "      <td>0.136422</td>\n",
       "      <td>0.033718</td>\n",
       "      <td>0.035628</td>\n",
       "      <td>0.247158</td>\n",
       "      <td>0.144152</td>\n",
       "    </tr>\n",
       "    <tr>\n",
       "      <th>20</th>\n",
       "      <td>21.0</td>\n",
       "      <td>0.570464</td>\n",
       "      <td>0.314570</td>\n",
       "      <td>0.112351</td>\n",
       "      <td>0.030668</td>\n",
       "      <td>0.053759</td>\n",
       "      <td>0.272965</td>\n",
       "      <td>0.196946</td>\n",
       "    </tr>\n",
       "    <tr>\n",
       "      <th>21</th>\n",
       "      <td>22.0</td>\n",
       "      <td>0.721331</td>\n",
       "      <td>0.307465</td>\n",
       "      <td>0.069836</td>\n",
       "      <td>0.011370</td>\n",
       "      <td>0.015763</td>\n",
       "      <td>0.162810</td>\n",
       "      <td>0.096815</td>\n",
       "    </tr>\n",
       "    <tr>\n",
       "      <th>22</th>\n",
       "      <td>23.0</td>\n",
       "      <td>0.996852</td>\n",
       "      <td>0.463833</td>\n",
       "      <td>0.168488</td>\n",
       "      <td>0.033247</td>\n",
       "      <td>0.033352</td>\n",
       "      <td>0.197323</td>\n",
       "      <td>0.169020</td>\n",
       "    </tr>\n",
       "    <tr>\n",
       "      <th>23</th>\n",
       "      <td>24.0</td>\n",
       "      <td>0.417740</td>\n",
       "      <td>0.236122</td>\n",
       "      <td>0.117032</td>\n",
       "      <td>0.038371</td>\n",
       "      <td>0.091854</td>\n",
       "      <td>0.327868</td>\n",
       "      <td>0.280156</td>\n",
       "    </tr>\n",
       "  </tbody>\n",
       "</table>\n",
       "</div>"
      ],
      "text/plain": [
       "    event_number      QDOC      QSAC       QDO       QpH     DOCpH      DOpH  \\\n",
       "0            1.0  1.962145  1.585056  1.513727  0.121386  0.061864  0.080190   \n",
       "1            2.0  1.558834  1.332757  0.546914  0.109716  0.070383  0.200609   \n",
       "2            3.0  0.675411  0.526730  0.507142  0.109683  0.162395  0.216278   \n",
       "3            4.0  0.995819  0.546628  0.652205  0.045051  0.045240  0.069075   \n",
       "4            5.0  0.701979  0.528903  1.877697  0.057754  0.082273  0.030758   \n",
       "5            6.0  1.079464  0.600519  0.196264  0.068182  0.063163  0.347400   \n",
       "6            7.0  0.719407  0.456232  0.083223  0.077187  0.107293  0.927475   \n",
       "7            8.0  0.916181  0.547298  0.224656  0.099053  0.108115  0.440907   \n",
       "8            9.0  1.407489  0.504650  0.542889  0.151780  0.107838  0.279579   \n",
       "9           10.0  0.766635  0.635805  0.253433  0.077440  0.101013  0.305565   \n",
       "10          11.0  1.078385  0.584371  0.167425  0.058355  0.054113  0.348542   \n",
       "11          12.0  4.281021  1.773951  0.228806  0.087901  0.020533  0.384172   \n",
       "12          13.0  0.560696  0.124615  0.062421  0.036068  0.064328  0.577823   \n",
       "13          14.0  0.695342  0.298390  0.076722  0.062659  0.090113  0.816705   \n",
       "14          15.0  0.494106  0.317939  0.067483  0.018420  0.037279  0.272954   \n",
       "15          16.0  1.102295  0.547838  0.125736  0.021820  0.019795  0.173539   \n",
       "16          17.0  1.572790  0.660906  0.177676  0.042441  0.026985  0.238868   \n",
       "17          18.0  0.693932  0.199073  0.130561  0.030291  0.043652  0.232009   \n",
       "18          19.0  0.569263  0.372835  0.057128  0.024832  0.043621  0.434666   \n",
       "19          20.0  0.946375  0.487194  0.136422  0.033718  0.035628  0.247158   \n",
       "20          21.0  0.570464  0.314570  0.112351  0.030668  0.053759  0.272965   \n",
       "21          22.0  0.721331  0.307465  0.069836  0.011370  0.015763  0.162810   \n",
       "22          23.0  0.996852  0.463833  0.168488  0.033247  0.033352  0.197323   \n",
       "23          24.0  0.417740  0.236122  0.117032  0.038371  0.091854  0.327868   \n",
       "\n",
       "       DOCdo  \n",
       "0   0.771465  \n",
       "1   0.350848  \n",
       "2   0.750864  \n",
       "3   0.654944  \n",
       "4   2.674863  \n",
       "5   0.181816  \n",
       "6   0.115683  \n",
       "7   0.245210  \n",
       "8   0.385715  \n",
       "9   0.330579  \n",
       "10  0.155255  \n",
       "11  0.053447  \n",
       "12  0.111328  \n",
       "13  0.110337  \n",
       "14  0.136575  \n",
       "15  0.114068  \n",
       "16  0.112968  \n",
       "17  0.188146  \n",
       "18  0.100355  \n",
       "19  0.144152  \n",
       "20  0.196946  \n",
       "21  0.096815  \n",
       "22  0.169020  \n",
       "23  0.280156  "
      ]
     },
     "execution_count": 26,
     "metadata": {},
     "output_type": "execute_result"
    }
   ],
   "source": [
    "stats_df"
   ]
  },
  {
   "cell_type": "code",
   "execution_count": null,
   "metadata": {},
   "outputs": [],
   "source": []
  },
  {
   "cell_type": "markdown",
   "metadata": {},
   "source": [
    "## Calculate Time of Event Maxs/Mins"
   ]
  },
  {
   "cell_type": "code",
   "execution_count": 27,
   "metadata": {},
   "outputs": [
    {
     "data": {
      "text/plain": [
       "Text(0, 0.5, 'Hours Till Most Extreme Value')"
      ]
     },
     "execution_count": 27,
     "metadata": {},
     "output_type": "execute_result"
    },
    {
     "data": {
      "image/png": "[encoded data removed]",
      "text/plain": [
       "<Figure size 432x288 with 1 Axes>"
      ]
     },
     "metadata": {
      "needs_background": "light"
     },
     "output_type": "display_data"
    }
   ],
   "source": [
    "Time_Max_Q = ((events.groupby('Event').Q.idxmax(axis=1) + 1) - np.array(events.groupby('Event').Value.min())) / 6\n",
    "Time_Max_DOC = ((events.groupby('Event').DOC.idxmax(axis=1) + 1) - np.array(events.groupby('Event').Value.min())) / 6\n",
    "Time_Min_pH = ((events.groupby('Event').pH.idxmin(axis=1) + 1) - np.array(events.groupby('Event').Value.min())) / 6\n",
    "Time_Min_DO = ((events.groupby('Event').DO.idxmin(axis=1) + 1) - np.array(events.groupby('Event').Value.min())) / 6\n",
    "\n",
    "event_number = range(1, 25)\n",
    "time_stack = np.column_stack((event_number, Time_Max_Q, Time_Max_DOC, Time_Min_pH, Time_Min_DO))\n",
    "time = pd.DataFrame(time_stack, columns = ['event_number','Q', 'DOC', 'pH', 'DO'])\n",
    "\n",
    "plt.plot(event_number, Time_Max_DOC, label = \"DOC\")\n",
    "plt.plot(event_number, Time_Min_pH, label = \"pH\")\n",
    "plt.plot(event_number, Time_Max_Q, label = \"Q\")\n",
    "plt.legend(loc=\"upper left\")\n",
    "plt.xlabel(\"Event Number\")\n",
    "plt.ylabel(\"Hours Till Most Extreme Value\")"
   ]
  },
  {
   "cell_type": "markdown",
   "metadata": {},
   "source": [
    "## Event Timings"
   ]
  },
  {
   "cell_type": "code",
   "execution_count": 28,
   "metadata": {},
   "outputs": [],
   "source": [
    "DOC_delay = np.array(time.DOC)\n",
    "pH_delay = np.array(time.pH)\n",
    "\n",
    "time_peak = np.column_stack((event_number, event_length, DOC_delay, pH_delay))\n",
    "event_timings = pd.DataFrame(time_peak, columns = ['event_number', 'event_length','DOC', 'pH'])\n",
    "\n"
   ]
  },
  {
   "cell_type": "code",
   "execution_count": null,
   "metadata": {},
   "outputs": [],
   "source": []
  },
  {
   "cell_type": "code",
   "execution_count": null,
   "metadata": {},
   "outputs": [],
   "source": []
  },
  {
   "cell_type": "markdown",
   "metadata": {},
   "source": [
    "## Event Data Normalisation"
   ]
  },
  {
   "cell_type": "code",
   "execution_count": 29,
   "metadata": {},
   "outputs": [],
   "source": [
    "def event_norm(number_of_event):\n",
    "    \n",
    "    event = events[(events.Event == number_of_event)]\n",
    "    for i in event.columns:\n",
    "        \n",
    "        time = event.timestamp\n",
    "        DOCnorm = event.DOC.apply(lambda x: (x - event.DOC.min())/(event.DOC.max() - event.DOC.min()))\n",
    "        Qnorm = event.Q.apply(lambda x: (x - event.Q.min())/(event.Q.max() - event.Q.min()))\n",
    "        pHnorm = event.pH.apply(lambda x: (x - event.pH.min())/(event.pH.max() - event.pH.min()))\n",
    "        SACnorm = event.SAC254.apply(lambda x: (x - event.SAC254.min())/(event.SAC254.max() - event.SAC254.min()))\n",
    "    \n",
    "#plot Hysteresis Graph and Time Series Graph    \n",
    "    \n",
    "    plot1 = plt.figure(1)\n",
    "    plt.plot(Qnorm, DOCnorm, \"-g\", label = 'DOC')\n",
    "    plt.plot(Qnorm, pHnorm, \"-c\", label = 'pH')\n",
    "    plt.plot(Qnorm, SACnorm, \"-m\", label = '254' )\n",
    "    plt.yticks([])\n",
    "    plt.legend()\n",
    "    plt.title('Event Hysteresis')\n",
    "    plt.xlabel('Discharge')\n",
    "\n",
    "    hydrograph = plt.figure(2)\n",
    "    plt.plot(Qnorm, time, \"-b\", label = 'Q')\n",
    "    plt.plot(DOCnorm, time, \"-g\", label = 'DOC')\n",
    "    plt.plot(pHnorm, time, \"-c\", label = 'pH')\n",
    "    plt.plot(SACnorm, time, \"-m\", label = '254')\n",
    "    plt.yticks([])\n",
    "    plt.legend()\n",
    "    plt.title('Time Series')\n",
    "    \n",
    "\n",
    "    plt.show()\n",
    "        \n",
    "    "
   ]
  },
  {
   "cell_type": "code",
   "execution_count": 30,
   "metadata": {},
   "outputs": [
    {
     "data": {
      "text/plain": [
       "Text(0, 0.5, 'Time till Extreme')"
      ]
     },
     "execution_count": 30,
     "metadata": {},
     "output_type": "execute_result"
    },
    {
     "data": {
      "image/png": "[encoded data removed]",
      "text/plain": [
       "<Figure size 432x288 with 1 Axes>"
      ]
     },
     "metadata": {
      "needs_background": "light"
     },
     "output_type": "display_data"
    }
   ],
   "source": [
    "plt.scatter(event_timings.event_length, event_timings.DOC)\n",
    "plt.scatter(event_timings.event_length, event_timings.pH)\n",
    "plt.xlabel('Event Length')\n",
    "plt.ylabel('Time till Extreme')\n"
   ]
  },
  {
   "cell_type": "code",
   "execution_count": 31,
   "metadata": {},
   "outputs": [
    {
     "data": {
      "text/html": [
       "<div>\n",
       "<style scoped>\n",
       "    .dataframe tbody tr th:only-of-type {\n",
       "        vertical-align: middle;\n",
       "    }\n",
       "\n",
       "    .dataframe tbody tr th {\n",
       "        vertical-align: top;\n",
       "    }\n",
       "\n",
       "    .dataframe thead th {\n",
       "        text-align: right;\n",
       "    }\n",
       "</style>\n",
       "<table border=\"1\" class=\"dataframe\">\n",
       "  <thead>\n",
       "    <tr style=\"text-align: right;\">\n",
       "      <th></th>\n",
       "      <th>event_number</th>\n",
       "      <th>event_length</th>\n",
       "      <th>DOC</th>\n",
       "      <th>pH</th>\n",
       "    </tr>\n",
       "  </thead>\n",
       "  <tbody>\n",
       "    <tr>\n",
       "      <th>0</th>\n",
       "      <td>1.0</td>\n",
       "      <td>34.000000</td>\n",
       "      <td>5.166667</td>\n",
       "      <td>7.833333</td>\n",
       "    </tr>\n",
       "    <tr>\n",
       "      <th>1</th>\n",
       "      <td>2.0</td>\n",
       "      <td>19.333333</td>\n",
       "      <td>4.500000</td>\n",
       "      <td>4.000000</td>\n",
       "    </tr>\n",
       "    <tr>\n",
       "      <th>2</th>\n",
       "      <td>3.0</td>\n",
       "      <td>9.500000</td>\n",
       "      <td>5.000000</td>\n",
       "      <td>3.500000</td>\n",
       "    </tr>\n",
       "    <tr>\n",
       "      <th>3</th>\n",
       "      <td>4.0</td>\n",
       "      <td>10.833333</td>\n",
       "      <td>5.833333</td>\n",
       "      <td>5.333333</td>\n",
       "    </tr>\n",
       "    <tr>\n",
       "      <th>4</th>\n",
       "      <td>5.0</td>\n",
       "      <td>6.166667</td>\n",
       "      <td>4.333333</td>\n",
       "      <td>0.000000</td>\n",
       "    </tr>\n",
       "    <tr>\n",
       "      <th>5</th>\n",
       "      <td>6.0</td>\n",
       "      <td>23.333333</td>\n",
       "      <td>4.333333</td>\n",
       "      <td>4.000000</td>\n",
       "    </tr>\n",
       "    <tr>\n",
       "      <th>6</th>\n",
       "      <td>7.0</td>\n",
       "      <td>19.500000</td>\n",
       "      <td>4.833333</td>\n",
       "      <td>4.333333</td>\n",
       "    </tr>\n",
       "    <tr>\n",
       "      <th>7</th>\n",
       "      <td>8.0</td>\n",
       "      <td>21.000000</td>\n",
       "      <td>2.666667</td>\n",
       "      <td>3.833333</td>\n",
       "    </tr>\n",
       "    <tr>\n",
       "      <th>8</th>\n",
       "      <td>9.0</td>\n",
       "      <td>5.666667</td>\n",
       "      <td>0.000000</td>\n",
       "      <td>0.000000</td>\n",
       "    </tr>\n",
       "    <tr>\n",
       "      <th>9</th>\n",
       "      <td>10.0</td>\n",
       "      <td>29.833333</td>\n",
       "      <td>5.833333</td>\n",
       "      <td>5.000000</td>\n",
       "    </tr>\n",
       "    <tr>\n",
       "      <th>10</th>\n",
       "      <td>11.0</td>\n",
       "      <td>30.833333</td>\n",
       "      <td>5.666667</td>\n",
       "      <td>6.000000</td>\n",
       "    </tr>\n",
       "    <tr>\n",
       "      <th>11</th>\n",
       "      <td>12.0</td>\n",
       "      <td>4.500000</td>\n",
       "      <td>3.833333</td>\n",
       "      <td>3.833333</td>\n",
       "    </tr>\n",
       "    <tr>\n",
       "      <th>12</th>\n",
       "      <td>13.0</td>\n",
       "      <td>13.000000</td>\n",
       "      <td>2.666667</td>\n",
       "      <td>3.833333</td>\n",
       "    </tr>\n",
       "    <tr>\n",
       "      <th>13</th>\n",
       "      <td>14.0</td>\n",
       "      <td>68.333333</td>\n",
       "      <td>4.166667</td>\n",
       "      <td>6.000000</td>\n",
       "    </tr>\n",
       "    <tr>\n",
       "      <th>14</th>\n",
       "      <td>15.0</td>\n",
       "      <td>9.166667</td>\n",
       "      <td>2.333333</td>\n",
       "      <td>1.833333</td>\n",
       "    </tr>\n",
       "    <tr>\n",
       "      <th>15</th>\n",
       "      <td>16.0</td>\n",
       "      <td>12.166667</td>\n",
       "      <td>4.000000</td>\n",
       "      <td>5.000000</td>\n",
       "    </tr>\n",
       "    <tr>\n",
       "      <th>16</th>\n",
       "      <td>17.0</td>\n",
       "      <td>19.500000</td>\n",
       "      <td>14.333333</td>\n",
       "      <td>5.333333</td>\n",
       "    </tr>\n",
       "    <tr>\n",
       "      <th>17</th>\n",
       "      <td>18.0</td>\n",
       "      <td>9.166667</td>\n",
       "      <td>1.000000</td>\n",
       "      <td>3.333333</td>\n",
       "    </tr>\n",
       "    <tr>\n",
       "      <th>18</th>\n",
       "      <td>19.0</td>\n",
       "      <td>11.000000</td>\n",
       "      <td>5.166667</td>\n",
       "      <td>4.833333</td>\n",
       "    </tr>\n",
       "    <tr>\n",
       "      <th>19</th>\n",
       "      <td>20.0</td>\n",
       "      <td>14.333333</td>\n",
       "      <td>5.833333</td>\n",
       "      <td>6.833333</td>\n",
       "    </tr>\n",
       "    <tr>\n",
       "      <th>20</th>\n",
       "      <td>21.0</td>\n",
       "      <td>29.000000</td>\n",
       "      <td>5.333333</td>\n",
       "      <td>4.833333</td>\n",
       "    </tr>\n",
       "    <tr>\n",
       "      <th>21</th>\n",
       "      <td>22.0</td>\n",
       "      <td>6.666667</td>\n",
       "      <td>2.333333</td>\n",
       "      <td>1.666667</td>\n",
       "    </tr>\n",
       "    <tr>\n",
       "      <th>22</th>\n",
       "      <td>23.0</td>\n",
       "      <td>13.500000</td>\n",
       "      <td>2.500000</td>\n",
       "      <td>10.500000</td>\n",
       "    </tr>\n",
       "    <tr>\n",
       "      <th>23</th>\n",
       "      <td>24.0</td>\n",
       "      <td>44.166667</td>\n",
       "      <td>5.166667</td>\n",
       "      <td>5.333333</td>\n",
       "    </tr>\n",
       "  </tbody>\n",
       "</table>\n",
       "</div>"
      ],
      "text/plain": [
       "    event_number  event_length        DOC         pH\n",
       "0            1.0     34.000000   5.166667   7.833333\n",
       "1            2.0     19.333333   4.500000   4.000000\n",
       "2            3.0      9.500000   5.000000   3.500000\n",
       "3            4.0     10.833333   5.833333   5.333333\n",
       "4            5.0      6.166667   4.333333   0.000000\n",
       "5            6.0     23.333333   4.333333   4.000000\n",
       "6            7.0     19.500000   4.833333   4.333333\n",
       "7            8.0     21.000000   2.666667   3.833333\n",
       "8            9.0      5.666667   0.000000   0.000000\n",
       "9           10.0     29.833333   5.833333   5.000000\n",
       "10          11.0     30.833333   5.666667   6.000000\n",
       "11          12.0      4.500000   3.833333   3.833333\n",
       "12          13.0     13.000000   2.666667   3.833333\n",
       "13          14.0     68.333333   4.166667   6.000000\n",
       "14          15.0      9.166667   2.333333   1.833333\n",
       "15          16.0     12.166667   4.000000   5.000000\n",
       "16          17.0     19.500000  14.333333   5.333333\n",
       "17          18.0      9.166667   1.000000   3.333333\n",
       "18          19.0     11.000000   5.166667   4.833333\n",
       "19          20.0     14.333333   5.833333   6.833333\n",
       "20          21.0     29.000000   5.333333   4.833333\n",
       "21          22.0      6.666667   2.333333   1.666667\n",
       "22          23.0     13.500000   2.500000  10.500000\n",
       "23          24.0     44.166667   5.166667   5.333333"
      ]
     },
     "execution_count": 31,
     "metadata": {},
     "output_type": "execute_result"
    }
   ],
   "source": [
    "event_timings"
   ]
  },
  {
   "cell_type": "markdown",
   "metadata": {},
   "source": [
    "## Pick Event To View Graphs"
   ]
  },
  {
   "cell_type": "code",
   "execution_count": 32,
   "metadata": {},
   "outputs": [
    {
     "data": {
      "image/png": "[encoded data removed]",
      "text/plain": [
       "<Figure size 432x288 with 1 Axes>"
      ]
     },
     "metadata": {
      "needs_background": "light"
     },
     "output_type": "display_data"
    },
    {
     "data": {
      "image/png": "[encoded data removed]",
      "text/plain": [
       "<Figure size 432x288 with 1 Axes>"
      ]
     },
     "metadata": {
      "needs_background": "light"
     },
     "output_type": "display_data"
    }
   ],
   "source": [
    "event_norm(1)"
   ]
  },
  {
   "cell_type": "code",
   "execution_count": 44,
   "metadata": {},
   "outputs": [],
   "source": [
    "def timeseries(event):\n",
    "    plt.plot((events[events.Event == event].timestamp), (events[events.Event == event].DOC), \"-g\", label = 'DOC')\n",
    "    plt.plot((events[events.Event == event].timestamp), (events[events.Event == event].Q), \"-b\", label = 'Q')\n",
    "    plt.plot((events[events.Event == event].timestamp), (events[events.Event == event].NO3), \"-r\", label = 'NO3')\n",
    "    plt.xticks([])\n",
    "    plt.xlabel('Time')\n",
    "    plt.legend()\n",
    "    plt.ylim(0,25)\n",
    "    "
   ]
  },
  {
   "cell_type": "code",
   "execution_count": 47,
   "metadata": {},
   "outputs": [
    {
     "data": {
      "image/png": "[encoded data removed]",
      "text/plain": [
       "<Figure size 432x288 with 1 Axes>"
      ]
     },
     "metadata": {
      "needs_background": "light"
     },
     "output_type": "display_data"
    }
   ],
   "source": [
    "timeseries(15)"
   ]
  },
  {
   "cell_type": "code",
   "execution_count": 40,
   "metadata": {},
   "outputs": [
    {
     "data": {
      "text/plain": [
       "array([[ 1.        ,  1.96214496,  0.36445266],\n",
       "       [ 2.        ,  1.55883425,  0.65574672],\n",
       "       [ 3.        ,  0.67541084,  0.40028615],\n",
       "       [ 4.        ,  0.9958187 ,  0.47017439],\n",
       "       [ 5.        ,  0.70197869,  0.9522194 ],\n",
       "       [ 6.        ,  1.07946381,  0.81521222],\n",
       "       [ 7.        ,  0.71940728,  0.83184757],\n",
       "       [ 8.        ,  0.91618099,  0.69293722],\n",
       "       [ 9.        ,  1.40748852,  1.0098334 ],\n",
       "       [10.        ,  0.76663504,  0.87874618],\n",
       "       [11.        ,  1.07838546,  0.76123779],\n",
       "       [12.        ,  4.28102107,  1.32511533],\n",
       "       [13.        ,  0.56069594,  0.30042098],\n",
       "       [14.        ,  0.69534163,  0.2396622 ],\n",
       "       [15.        ,  0.49410619,  0.72757604],\n",
       "       [16.        ,  1.10229458,  2.26995932],\n",
       "       [17.        ,  1.5727899 ,  1.74591267],\n",
       "       [18.        ,  0.69393204,  1.7401099 ],\n",
       "       [19.        ,  0.56926288,  1.000436  ],\n",
       "       [20.        ,  0.94637472,  0.93639458],\n",
       "       [21.        ,  0.57046427,  0.36166957],\n",
       "       [22.        ,  0.72133137,  0.9506075 ],\n",
       "       [23.        ,  0.99685207,  1.92800886],\n",
       "       [24.        ,  0.41774045,  0.88007956]])"
      ]
     },
     "execution_count": 40,
     "metadata": {},
     "output_type": "execute_result"
    }
   ],
   "source": [
    "CoVs"
   ]
  },
  {
   "cell_type": "code",
   "execution_count": 39,
   "metadata": {},
   "outputs": [],
   "source": [
    "time_of_max_q = ((events.groupby('Event').Q.idxmax(axis=1) + 1))"
   ]
  },
  {
   "cell_type": "code",
   "execution_count": 576,
   "metadata": {},
   "outputs": [
    {
     "data": {
      "text/plain": [
       "Event\n",
       "1       24\n",
       "2      217\n",
       "3      331\n",
       "4      395\n",
       "5      443\n",
       "6      496\n",
       "7      639\n",
       "8      749\n",
       "9      863\n",
       "10     919\n",
       "11    1095\n",
       "12    1277\n",
       "13    1301\n",
       "14    1391\n",
       "15    1779\n",
       "16    1846\n",
       "17    1945\n",
       "18    2027\n",
       "19    2102\n",
       "20    2174\n",
       "21    2247\n",
       "22    2408\n",
       "23    2465\n",
       "24    2541\n",
       "Name: Q, dtype: int64"
      ]
     },
     "execution_count": 576,
     "metadata": {},
     "output_type": "execute_result"
    }
   ],
   "source": [
    "time_of_max_q"
   ]
  }
 ],
 "metadata": {
  "kernelspec": {
   "display_name": "Python 3",
   "language": "python",
   "name": "python3"
  },
  "language_info": {
   "codemirror_mode": {
    "name": "ipython",
    "version": 3
   },
   "file_extension": ".py",
   "mimetype": "text/x-python",
   "name": "python",
   "nbconvert_exporter": "python",
   "pygments_lexer": "ipython3",
   "version": "3.7.3"
  }
 },
 "nbformat": 4,
 "nbformat_minor": 2
}
